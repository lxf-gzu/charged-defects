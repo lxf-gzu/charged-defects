{
 "cells": [
  {
   "cell_type": "markdown",
   "metadata": {},
   "source": [
    "**IMPORTANT** -- This notebook will not render correctly when opened. From the menu bar above, please select Kernel -> Restart and run all  \n",
    "This will generate the input elements.\n",
    "***"
   ]
  },
  {
   "cell_type": "markdown",
   "metadata": {},
   "source": [
    "# Calculate the image interacton correction (IIC) for a cubic cell using the Lany-Zunger method, and predict the potentail alignment correction from the addition or removal of atoms"
   ]
  },
  {
   "cell_type": "code",
   "execution_count": 18,
   "metadata": {
    "scrolled": false
   },
   "outputs": [
    {
     "data": {
      "application/vnd.jupyter.widget-view+json": {
       "model_id": "5b63071a9b154ff09c021e97d8a27378",
       "version_major": 2,
       "version_minor": 0
      },
      "text/plain": [
       "HBox(children=(Label(value=u':: Cell parameters (cubic cell) ::', layout=Layout(width=u'30%')),))"
      ]
     },
     "metadata": {},
     "output_type": "display_data"
    },
    {
     "data": {
      "application/vnd.jupyter.widget-view+json": {
       "model_id": "50a65ba2270d45ea98c6a0f222a6788a",
       "version_major": 2,
       "version_minor": 0
      },
      "text/plain": [
       "SEJveChjaGlsZHJlbj0oTGFiZWwodmFsdWU9dSdMYXR0aWNlIGNvbnN0YW50JywgbGF5b3V0PUxheW91dCh3aWR0aD11JzE0JScpKSwgVGV4dCh2YWx1ZT11JzEwLjAnKSwgTGFiZWwodmFsdWXigKY=\n"
      ]
     },
     "metadata": {},
     "output_type": "display_data"
    },
    {
     "data": {
      "application/vnd.jupyter.widget-view+json": {
       "model_id": "8130265ebd264a65b6ab5ed59ed2cfe6",
       "version_major": 2,
       "version_minor": 0
      },
      "text/plain": [
       "SEJveChjaGlsZHJlbj0oTGFiZWwodmFsdWU9dSdTdXBlcmNlbGwgKE54TnhOKScsIGxheW91dD1MYXlvdXQod2lkdGg9dScxNCUnKSksIFRleHQodmFsdWU9dScxJyksIExhYmVsKHZhbHVlPXXigKY=\n"
      ]
     },
     "metadata": {},
     "output_type": "display_data"
    },
    {
     "data": {
      "application/vnd.jupyter.widget-view+json": {
       "model_id": "095af0fc91064bfba59ca3facedcbc37",
       "version_major": 2,
       "version_minor": 0
      },
      "text/plain": [
       "SEJveChjaGlsZHJlbj0oTGFiZWwodmFsdWU9dSdEaWVsZWN0cmljIGNvbnN0YW50JywgbGF5b3V0PUxheW91dCh3aWR0aD11JzE0JScpKSwgVGV4dCh2YWx1ZT11JzEwLjAnKSwgTGFiZWwodmHigKY=\n"
      ]
     },
     "metadata": {},
     "output_type": "display_data"
    },
    {
     "data": {
      "application/vnd.jupyter.widget-view+json": {
       "model_id": "4fa671e3de6140e98c110bf70128ee85",
       "version_major": 2,
       "version_minor": 0
      },
      "text/plain": [
       "SEJveChjaGlsZHJlbj0oTGFiZWwodmFsdWU9dSdEZWZlY3QgY2hhcmdlIHN0YXRlJywgbGF5b3V0PUxheW91dCh3aWR0aD11JzE0JScpKSwgVGV4dCh2YWx1ZT11JzEnKSwgTGFiZWwodmFsdWXigKY=\n"
      ]
     },
     "metadata": {},
     "output_type": "display_data"
    },
    {
     "data": {
      "application/vnd.jupyter.widget-view+json": {
       "model_id": "f91cc44985c34d10a463f3e706caebe5",
       "version_major": 2,
       "version_minor": 0
      },
      "text/plain": [
       "HBox(children=(Label(value=u':: Chage in atoms in cell ::', layout=Layout(width=u'30%')),))"
      ]
     },
     "metadata": {},
     "output_type": "display_data"
    },
    {
     "data": {
      "application/vnd.jupyter.widget-view+json": {
       "model_id": "0391eb905dd34199a712fa911978b085",
       "version_major": 2,
       "version_minor": 0
      },
      "text/plain": [
       "SEJveChjaGlsZHJlbj0oTGFiZWwodmFsdWU9dSdFbGVtZW50JywgbGF5b3V0PUxheW91dCh3aWR0aD11JzE0JScpKSwgVGV4dCh2YWx1ZT11J08nLCBsYXlvdXQ9TGF5b3V0KHdpZHRoPXUnMTTigKY=\n"
      ]
     },
     "metadata": {},
     "output_type": "display_data"
    },
    {
     "data": {
      "application/vnd.jupyter.widget-view+json": {
       "model_id": "c68abf23ca3d4b2c8e7e66d17215975b",
       "version_major": 2,
       "version_minor": 0
      },
      "text/plain": [
       "SEJveChjaGlsZHJlbj0oTGFiZWwodmFsdWU9dSdFbGVtZW50JywgbGF5b3V0PUxheW91dCh3aWR0aD11JzE0JScpKSwgVGV4dCh2YWx1ZT11J0gnLCBsYXlvdXQ9TGF5b3V0KHdpZHRoPXUnMTTigKY=\n"
      ]
     },
     "metadata": {},
     "output_type": "display_data"
    },
    {
     "data": {
      "application/vnd.jupyter.widget-view+json": {
       "model_id": "ddf63ae5ce7b4bdd9d1e6014d987d5d8",
       "version_major": 2,
       "version_minor": 0
      },
      "text/plain": [
       "SEJveChjaGlsZHJlbj0oTGFiZWwodmFsdWU9dSdFbGVtZW50JywgbGF5b3V0PUxheW91dCh3aWR0aD11JzE0JScpKSwgVGV4dCh2YWx1ZT11J0hlJywgbGF5b3V0PUxheW91dCh3aWR0aD11JzHigKY=\n"
      ]
     },
     "metadata": {},
     "output_type": "display_data"
    },
    {
     "data": {
      "application/vnd.jupyter.widget-view+json": {
       "model_id": "aa047828629d4f178bc136a612455478",
       "version_major": 2,
       "version_minor": 0
      },
      "text/plain": [
       "Button(description=u'Calculate Corrections', style=ButtonStyle())"
      ]
     },
     "metadata": {},
     "output_type": "display_data"
    },
    {
     "name": "stdout",
     "output_type": "stream",
     "text": [
      "Image interaction correction\n",
      "L = 10.0 (Angstrom) epsilon= 10.0 q = 1.0\n",
      "LZ IIC 0.257832318328 eV\n",
      "\n",
      "\n",
      "Prediction of potential alignment\n",
      "Correction for O -0.0901244 eV\n",
      "Correction for H 0.0 eV\n",
      "Correction for He 0.0 eV\n",
      "q = 1.0 (Electron charges) L = 10.0 (Angstrom)\n",
      "\n",
      "\n",
      "Image Interaction correction (LZ) = 0.257832318328 eV\n",
      "Predicted alignment correction    = -0.0901244 eV\n",
      "Combined correction               = 0.1677079183284979 eV\n"
     ]
    }
   ],
   "source": [
    "%run input_and_calc.py"
   ]
  }
 ],
 "metadata": {
  "kernelspec": {
   "display_name": "Python 2",
   "language": "python",
   "name": "python2"
  },
  "language_info": {
   "codemirror_mode": {
    "name": "ipython",
    "version": 2
   },
   "file_extension": ".py",
   "mimetype": "text/x-python",
   "name": "python",
   "nbconvert_exporter": "python",
   "pygments_lexer": "ipython2",
   "version": "2.7.13"
  }
 },
 "nbformat": 4,
 "nbformat_minor": 2
}
