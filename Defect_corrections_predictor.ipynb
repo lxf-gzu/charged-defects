{
 "cells": [
  {
   "cell_type": "markdown",
   "metadata": {},
   "source": [
    "**IMPORTANT** -- This notebook will not render correctly when opened. From the menu bar above, please select Kernel -> Restart and run all  \n",
    "This will generate the input elements.\n",
    "***\n",
    "\n",
    "The methods used in this program are described in our paper -- https://doi.org/10.1063/1.5029818\n",
    "\n",
    "Image interaction correction is approximated using the Lany-Zunger correction.\n",
    "\n",
    "Potential alignment correction is approximated from the atomic radius of the atoms exchanged."
   ]
  },
  {
   "cell_type": "code",
   "execution_count": 2,
   "metadata": {},
   "outputs": [
    {
     "data": {
      "application/vnd.jupyter.widget-view+json": {
       "model_id": "4787c66c8ef94895973a748c69a88774",
       "version_major": 2,
       "version_minor": 0
      },
      "text/plain": [
       "HBox(children=(Label(value=u':: Cell parameters (cubic cell) ::', layout=Layout(width=u'30%')),))"
      ]
     },
     "metadata": {},
     "output_type": "display_data"
    },
    {
     "data": {
      "application/vnd.jupyter.widget-view+json": {
       "model_id": "47bd862cd8904bc0a9a88422ab18589f",
       "version_major": 2,
       "version_minor": 0
      },
      "text/plain": [
       "SEJveChjaGlsZHJlbj0oTGFiZWwodmFsdWU9dSdMYXR0aWNlIGNvbnN0YW50JywgbGF5b3V0PUxheW91dCh3aWR0aD11JzE0JScpKSwgVGV4dCh2YWx1ZT11JzEwLjAnKSwgTGFiZWwodmFsdWXigKY=\n"
      ]
     },
     "metadata": {},
     "output_type": "display_data"
    },
    {
     "data": {
      "application/vnd.jupyter.widget-view+json": {
       "model_id": "a033fc234c964b04aee8fe398049d3af",
       "version_major": 2,
       "version_minor": 0
      },
      "text/plain": [
       "SEJveChjaGlsZHJlbj0oTGFiZWwodmFsdWU9dSdTdXBlcmNlbGwgKE54TnhOKScsIGxheW91dD1MYXlvdXQod2lkdGg9dScxNCUnKSksIFRleHQodmFsdWU9dScxJyksIExhYmVsKHZhbHVlPXXigKY=\n"
      ]
     },
     "metadata": {},
     "output_type": "display_data"
    },
    {
     "data": {
      "application/vnd.jupyter.widget-view+json": {
       "model_id": "70545e904a894f80839735caf3988670",
       "version_major": 2,
       "version_minor": 0
      },
      "text/plain": [
       "SEJveChjaGlsZHJlbj0oTGFiZWwodmFsdWU9dSdEaWVsZWN0cmljIGNvbnN0YW50JywgbGF5b3V0PUxheW91dCh3aWR0aD11JzE0JScpKSwgVGV4dCh2YWx1ZT11JzEwLjAnKSwgTGFiZWwodmHigKY=\n"
      ]
     },
     "metadata": {},
     "output_type": "display_data"
    },
    {
     "data": {
      "application/vnd.jupyter.widget-view+json": {
       "model_id": "eb80d50410ef4092ab3538f0ffdb7ee5",
       "version_major": 2,
       "version_minor": 0
      },
      "text/plain": [
       "SEJveChjaGlsZHJlbj0oTGFiZWwodmFsdWU9dSdEZWZlY3QgY2hhcmdlIHN0YXRlJywgbGF5b3V0PUxheW91dCh3aWR0aD11JzE0JScpKSwgVGV4dCh2YWx1ZT11JzEnKSwgTGFiZWwodmFsdWXigKY=\n"
      ]
     },
     "metadata": {},
     "output_type": "display_data"
    },
    {
     "data": {
      "application/vnd.jupyter.widget-view+json": {
       "model_id": "9bdcd8934d6541fb8de9c9e59efd6aac",
       "version_major": 2,
       "version_minor": 0
      },
      "text/plain": [
       "HBox(children=(Label(value=u':: Chage in atoms in cell ::', layout=Layout(width=u'30%')),))"
      ]
     },
     "metadata": {},
     "output_type": "display_data"
    },
    {
     "data": {
      "application/vnd.jupyter.widget-view+json": {
       "model_id": "1d506220ad13419eb68a32e180d46fcf",
       "version_major": 2,
       "version_minor": 0
      },
      "text/plain": [
       "SEJveChjaGlsZHJlbj0oTGFiZWwodmFsdWU9dSdFbGVtZW50JywgbGF5b3V0PUxheW91dCh3aWR0aD11JzE0JScpKSwgVGV4dCh2YWx1ZT11J08nLCBsYXlvdXQ9TGF5b3V0KHdpZHRoPXUnMTTigKY=\n"
      ]
     },
     "metadata": {},
     "output_type": "display_data"
    },
    {
     "data": {
      "application/vnd.jupyter.widget-view+json": {
       "model_id": "446e1130414f4a7480547ca52b7c30e2",
       "version_major": 2,
       "version_minor": 0
      },
      "text/plain": [
       "SEJveChjaGlsZHJlbj0oTGFiZWwodmFsdWU9dSdFbGVtZW50JywgbGF5b3V0PUxheW91dCh3aWR0aD11JzE0JScpKSwgVGV4dCh2YWx1ZT11J0gnLCBsYXlvdXQ9TGF5b3V0KHdpZHRoPXUnMTTigKY=\n"
      ]
     },
     "metadata": {},
     "output_type": "display_data"
    },
    {
     "data": {
      "application/vnd.jupyter.widget-view+json": {
       "model_id": "569612430a3645eda45c35e9049423b8",
       "version_major": 2,
       "version_minor": 0
      },
      "text/plain": [
       "SEJveChjaGlsZHJlbj0oTGFiZWwodmFsdWU9dSdFbGVtZW50JywgbGF5b3V0PUxheW91dCh3aWR0aD11JzE0JScpKSwgVGV4dCh2YWx1ZT11J0hlJywgbGF5b3V0PUxheW91dCh3aWR0aD11JzHigKY=\n"
      ]
     },
     "metadata": {},
     "output_type": "display_data"
    },
    {
     "data": {
      "application/vnd.jupyter.widget-view+json": {
       "model_id": "d3753c6931524ad889301147a897f267",
       "version_major": 2,
       "version_minor": 0
      },
      "text/plain": [
       "Button(description=u'Calculate Corrections', style=ButtonStyle())"
      ]
     },
     "metadata": {},
     "output_type": "display_data"
    },
    {
     "name": "stdout",
     "output_type": "stream",
     "text": [
      "Image interaction correction\n",
      "L = 10.0 (Angstrom) epsilon= 10.0 q = 1.0\n",
      "MP IIC 0.204280561608 eV\n",
      "LZ IIC 0.136438987098 eV\n",
      "\n",
      "\n",
      "Prediction of potential alignment\n",
      "Correction for O -0.0901244 eV\n",
      "Correction for H 0.0 eV\n",
      "Correction for He 0.0 eV\n",
      "q = 1.0 (Electron charges) L = 10.0 (Angstrom)\n",
      "\n",
      "\n",
      "Image interaction correction (LZ) = 0.136438987098 eV\n",
      "Predicted alignment correction    = -0.0901244 eV\n",
      "Combined correction               = 0.04631458709811209 eV\n"
     ]
    }
   ],
   "source": [
    "%run input_and_calc.py"
   ]
  },
  {
   "cell_type": "code",
   "execution_count": null,
   "metadata": {},
   "outputs": [],
   "source": []
  }
 ],
 "metadata": {
  "kernelspec": {
   "display_name": "Python 2",
   "language": "python",
   "name": "python2"
  },
  "language_info": {
   "codemirror_mode": {
    "name": "ipython",
    "version": 2
   },
   "file_extension": ".py",
   "mimetype": "text/x-python",
   "name": "python",
   "nbconvert_exporter": "python",
   "pygments_lexer": "ipython2",
   "version": "2.7.13"
  }
 },
 "nbformat": 4,
 "nbformat_minor": 2
}
