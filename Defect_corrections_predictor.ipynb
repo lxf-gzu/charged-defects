{
 "cells": [
  {
   "cell_type": "markdown",
   "metadata": {},
   "source": [
    "# Calculate the image interacton correction (IIC) for a cubic cell using the Lany-Zunger method."
   ]
  },
  {
   "cell_type": "code",
   "execution_count": 1,
   "metadata": {
    "scrolled": true
   },
   "outputs": [],
   "source": [
    "from ipywidgets import widgets, HBox, Label, Layout\n",
    "from IPython.display import display, clear_output\n",
    "from calc_LZ import madelung, lany_zunger, hart2eV\n",
    "from calc_alignment import predict_alignment"
   ]
  },
  {
   "cell_type": "markdown",
   "metadata": {},
   "source": [
    "## Input cell parameters"
   ]
  },
  {
   "cell_type": "code",
   "execution_count": 2,
   "metadata": {
    "scrolled": true
   },
   "outputs": [
    {
     "data": {
      "application/vnd.jupyter.widget-view+json": {
       "model_id": "0620bf5069ae4f36b0ecef1f8d3dc1bf",
       "version_major": 2,
       "version_minor": 0
      },
      "text/plain": [
       "SEJveChjaGlsZHJlbj0oTGFiZWwodmFsdWU9dSdMYXR0aWNlIGNvbnN0YW50JywgbGF5b3V0PUxheW91dCh3aWR0aD11JzE0JScpKSwgVGV4dCh2YWx1ZT11JzEwLjAnKSwgTGFiZWwodmFsdWXigKY=\n"
      ]
     },
     "metadata": {},
     "output_type": "display_data"
    },
    {
     "data": {
      "application/vnd.jupyter.widget-view+json": {
       "model_id": "21e6be64ec37487c8b4254750d4c39ff",
       "version_major": 2,
       "version_minor": 0
      },
      "text/plain": [
       "SEJveChjaGlsZHJlbj0oTGFiZWwodmFsdWU9dSdEaWVsZWN0cmljIGNvbnN0YW50JywgbGF5b3V0PUxheW91dCh3aWR0aD11JzE0JScpKSwgVGV4dCh2YWx1ZT11JzEwLjAnKSwgTGFiZWwodmHigKY=\n"
      ]
     },
     "metadata": {},
     "output_type": "display_data"
    },
    {
     "data": {
      "application/vnd.jupyter.widget-view+json": {
       "model_id": "0f108680b15b40049804543a46bba351",
       "version_major": 2,
       "version_minor": 0
      },
      "text/plain": [
       "SEJveChjaGlsZHJlbj0oTGFiZWwodmFsdWU9dSdDaGFyZ2Ugc3RhdGUnLCBsYXlvdXQ9TGF5b3V0KHdpZHRoPXUnMTQlJykpLCBUZXh0KHZhbHVlPXUnMScpLCBMYWJlbCh2YWx1ZT11J0Fic2/igKY=\n"
      ]
     },
     "metadata": {},
     "output_type": "display_data"
    },
    {
     "data": {
      "application/vnd.jupyter.widget-view+json": {
       "model_id": "bb72e8d40ef34f3fb791f6f608165d27",
       "version_major": 2,
       "version_minor": 0
      },
      "text/plain": [
       "SEJveChjaGlsZHJlbj0oTGFiZWwodmFsdWU9dSdTdXBlcmNlbGwnLCBsYXlvdXQ9TGF5b3V0KHdpZHRoPXUnMTQlJykpLCBUZXh0KHZhbHVlPXUnMScpLCBMYWJlbCh2YWx1ZT11JyhSZWxhdGnigKY=\n"
      ]
     },
     "metadata": {},
     "output_type": "display_data"
    }
   ],
   "source": [
    "    text_latt = widgets.Text(description='', value='10.0')\n",
    "    text_eps = widgets.Text(description='', value='10.0')\n",
    "    text_q = widgets.Text(description='', value='1')\n",
    "    text_sup = widgets.Text(description='', value='1')\n",
    "    \n",
    "    lab = Layout(width='14%')\n",
    "        \n",
    "    text_latt_box = HBox([Label('Lattice constant', layout=lab), text_latt, Label('Angstrom')])\n",
    "    text_eps_box  = HBox([Label('Dielectric constant', layout=lab), text_eps, Label('(Relative)')])\n",
    "    text_q_box  = HBox([Label('Charge state', layout=lab), text_q, Label('Absolute electron charges')])\n",
    "    text_sup_box  = HBox([Label('Supercell', layout=lab), text_sup, Label('(Relative)')])\n",
    "\n",
    "    display(text_latt_box)\n",
    "    display(text_eps_box)\n",
    "    display(text_q_box)\n",
    "    display(text_sup_box)"
   ]
  },
  {
   "cell_type": "markdown",
   "metadata": {},
   "source": [
    "## Calculate IIC correction"
   ]
  },
  {
   "cell_type": "code",
   "execution_count": 3,
   "metadata": {},
   "outputs": [
    {
     "data": {
      "application/vnd.jupyter.widget-view+json": {
       "model_id": "11fd0989610c4e88bcb88b1a8802a152",
       "version_major": 2,
       "version_minor": 0
      },
      "text/plain": [
       "Button(description=u'Calculate IIC', style=ButtonStyle())"
      ]
     },
     "metadata": {},
     "output_type": "display_data"
    }
   ],
   "source": [
    "button = widgets.Button(description='Calculate IIC')\n",
    "display(button)\n",
    "\n",
    "def calc_iic(button):\n",
    "    print text_latt\n",
    "    L = float(text_latt.value)*float(text_sup.value)\n",
    "    epsilon = float(text_eps.value)\n",
    "    q = float(text_q.value)\n",
    "    mp = madelung(L, epsilon, q=q)*hart2eV\n",
    "    lz = lany_zunger(L, epsilon, q=q)*hart2eV\n",
    "    clear_output()\n",
    "    display(button)\n",
    "    print 'L =', L, '(Angstrom) ' 'epsilon=', epsilon, 'q =', q\n",
    "    print 'LZ IIC', lz, 'eV'\n",
    "\n",
    "         \n",
    "button.on_click(calc_iic)"
   ]
  },
  {
   "cell_type": "markdown",
   "metadata": {},
   "source": [
    "# Roughly predict the potential alginment correction, given the atoms exchanged, along with the cell size given above."
   ]
  },
  {
   "cell_type": "code",
   "execution_count": 4,
   "metadata": {},
   "outputs": [
    {
     "data": {
      "application/vnd.jupyter.widget-view+json": {
       "model_id": "fdc5ae0af4534f41a562280f0652a4cd",
       "version_major": 2,
       "version_minor": 0
      },
      "text/plain": [
       "Text(value=u'O', description=u'Element')"
      ]
     },
     "metadata": {},
     "output_type": "display_data"
    },
    {
     "data": {
      "application/vnd.jupyter.widget-view+json": {
       "model_id": "673f3adc815945afa8b1f89019061f83",
       "version_major": 2,
       "version_minor": 0
      },
      "text/plain": [
       "Text(value=u'-1', description=u'No. added')"
      ]
     },
     "metadata": {},
     "output_type": "display_data"
    },
    {
     "data": {
      "application/vnd.jupyter.widget-view+json": {
       "model_id": "c9ed7b73b20a424492c6410196ce02f0",
       "version_major": 2,
       "version_minor": 0
      },
      "text/plain": [
       "Text(value=u'H', description=u'Element')"
      ]
     },
     "metadata": {},
     "output_type": "display_data"
    },
    {
     "data": {
      "application/vnd.jupyter.widget-view+json": {
       "model_id": "f5f05857da754b3d9f00d28cff735c77",
       "version_major": 2,
       "version_minor": 0
      },
      "text/plain": [
       "Text(value=u'0', description=u'No. added')"
      ]
     },
     "metadata": {},
     "output_type": "display_data"
    },
    {
     "data": {
      "application/vnd.jupyter.widget-view+json": {
       "model_id": "763e778ec91b4b818e4b0d68ad5fcfc2",
       "version_major": 2,
       "version_minor": 0
      },
      "text/plain": [
       "Text(value=u'He', description=u'Element')"
      ]
     },
     "metadata": {},
     "output_type": "display_data"
    },
    {
     "data": {
      "application/vnd.jupyter.widget-view+json": {
       "model_id": "492036fc6b694ffab1bf1c76919d639d",
       "version_major": 2,
       "version_minor": 0
      },
      "text/plain": [
       "Text(value=u'0', description=u'No. added')"
      ]
     },
     "metadata": {},
     "output_type": "display_data"
    }
   ],
   "source": [
    "atom_1_type = widgets.Text(description='Element', value='O')\n",
    "atom_1_number = widgets.Text(description='No. added', value='-1')\n",
    "display(atom_1_type)\n",
    "display(atom_1_number)\n",
    "\n",
    "atom_2_type = widgets.Text(description='Element', value='H')\n",
    "atom_2_number = widgets.Text(description='No. added', value='0')\n",
    "display(atom_2_type)\n",
    "display(atom_2_number)\n",
    "\n",
    "atom_3_type = widgets.Text(description='Element', value='He')\n",
    "atom_3_number = widgets.Text(description='No. added', value='0')\n",
    "display(atom_3_type)\n",
    "display(atom_3_number)"
   ]
  },
  {
   "cell_type": "code",
   "execution_count": 5,
   "metadata": {},
   "outputs": [
    {
     "name": "stdout",
     "output_type": "stream",
     "text": [
      "q = 1.0 (Electron charges) L = 10.0 (Angstrom)\n",
      "Correction for O -0.0901244 eV\n",
      "Correction for H 0.0 eV\n",
      "Correction for He 0.0 eV\n",
      "Total correction  -0.0901244 eV\n"
     ]
    }
   ],
   "source": [
    "L = float(text_latt.value)*float(text_sup.value)\n",
    "epsilon = float(text_eps.value)\n",
    "q = float(text_q.value)\n",
    "\n",
    "N_1 = int(atom_1_number.value)\n",
    "element_1 = str(atom_1_type.value)\n",
    "alignment_1 = predict_alignment(element_1, L)\n",
    "\n",
    "N_2 = int(atom_2_number.value)\n",
    "element_2 = str(atom_2_type.value)\n",
    "alignment_2 = predict_alignment(element_2, L)\n",
    "\n",
    "N_3 = int(atom_3_number.value)\n",
    "element_3 = str(atom_3_type.value)\n",
    "alignment_3 = predict_alignment(element_3, L)\n",
    "\n",
    "\n",
    "print 'q =', q, '(Electron charges)', 'L =', L, '(Angstrom)'\n",
    "\n",
    "print 'Correction for {0}'.format(element_1), alignment_1*q*N_1, 'eV'\n",
    "print 'Correction for {0}'.format(element_2), alignment_2*q*N_2, 'eV'\n",
    "print 'Correction for {0}'.format(element_3), alignment_3*q*N_3, 'eV'\n",
    "print 'Total correction ', q*(alignment_1*N_1 + alignment_2*N_2 + alignment_3*N_3), 'eV'"
   ]
  },
  {
   "cell_type": "markdown",
   "metadata": {},
   "source": [
    "## Final corrections"
   ]
  },
  {
   "cell_type": "code",
   "execution_count": 6,
   "metadata": {},
   "outputs": [
    {
     "name": "stdout",
     "output_type": "stream",
     "text": [
      "Image Interaction correction (LZ) = 0.257832318328 eV\n",
      "Predicted alignment correction    = -0.0901244 eV\n",
      "Combined correction               = 0.1677079183284979\n"
     ]
    }
   ],
   "source": [
    "lz = lany_zunger(L, epsilon, q=q)*hart2eV\n",
    "print 'Image Interaction correction (LZ) =', lz, 'eV'\n",
    "print 'Predicted alignment correction    =', q*(alignment_1*N_1 + alignment_2*N_2 + alignment_3*N_3), 'eV'\n",
    "print 'Combined correction               =', lz + q*(alignment_1*N_1 + alignment_2*N_2 + alignment_3*N_3)"
   ]
  }
 ],
 "metadata": {
  "kernelspec": {
   "display_name": "Python 2",
   "language": "python",
   "name": "python2"
  },
  "language_info": {
   "codemirror_mode": {
    "name": "ipython",
    "version": 2
   },
   "file_extension": ".py",
   "mimetype": "text/x-python",
   "name": "python",
   "nbconvert_exporter": "python",
   "pygments_lexer": "ipython2",
   "version": "2.7.13"
  }
 },
 "nbformat": 4,
 "nbformat_minor": 2
}
