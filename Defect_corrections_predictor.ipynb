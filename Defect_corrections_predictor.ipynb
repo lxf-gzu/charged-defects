{
 "cells": [
  {
   "cell_type": "markdown",
   "metadata": {},
   "source": [
    "# Calculate the image interacton correction (IIC) for a cubic cell using the Lany-Zunger method."
   ]
  },
  {
   "cell_type": "code",
   "execution_count": 7,
   "metadata": {
    "scrolled": true
   },
   "outputs": [],
   "source": [
    "from ipywidgets import widgets, HBox, Label, Layout\n",
    "from IPython.display import display, clear_output\n",
    "from calc_LZ import madelung, lany_zunger, hart2eV\n",
    "from calc_alignment import predict_alignment"
   ]
  },
  {
   "cell_type": "markdown",
   "metadata": {},
   "source": [
    "## Input cell parameters"
   ]
  },
  {
   "cell_type": "code",
   "execution_count": 16,
   "metadata": {
    "scrolled": true
   },
   "outputs": [
    {
     "data": {
      "application/vnd.jupyter.widget-view+json": {
       "model_id": "45027a80cc5d4b779403a8be5a14361a",
       "version_major": 2,
       "version_minor": 0
      },
      "text/plain": [
       "SEJveChjaGlsZHJlbj0oTGFiZWwodmFsdWU9dSdMYXR0aWNlIGNvbnN0YW50JywgbGF5b3V0PUxheW91dCh3aWR0aD11JzE0JScpKSwgVGV4dCh2YWx1ZT11JzEwLjAnKSwgTGFiZWwodmFsdWXigKY=\n"
      ]
     },
     "metadata": {},
     "output_type": "display_data"
    },
    {
     "data": {
      "application/vnd.jupyter.widget-view+json": {
       "model_id": "4027d8e745464d49a5ff394ba8943786",
       "version_major": 2,
       "version_minor": 0
      },
      "text/plain": [
       "SEJveChjaGlsZHJlbj0oTGFiZWwodmFsdWU9dSdEaWVsZWN0cmljIGNvbnN0YW50JywgbGF5b3V0PUxheW91dCh3aWR0aD11JzE0JScpKSwgVGV4dCh2YWx1ZT11JzEwLjAnKSwgTGFiZWwodmHigKY=\n"
      ]
     },
     "metadata": {},
     "output_type": "display_data"
    },
    {
     "data": {
      "application/vnd.jupyter.widget-view+json": {
       "model_id": "53a0de2ca9734c0d9d9952741b1cfa7f",
       "version_major": 2,
       "version_minor": 0
      },
      "text/plain": [
       "SEJveChjaGlsZHJlbj0oTGFiZWwodmFsdWU9dSdDaGFyZ2Ugc3RhdGUnLCBsYXlvdXQ9TGF5b3V0KHdpZHRoPXUnMTQlJykpLCBUZXh0KHZhbHVlPXUnMScpLCBMYWJlbCh2YWx1ZT11J0Fic2/igKY=\n"
      ]
     },
     "metadata": {},
     "output_type": "display_data"
    },
    {
     "data": {
      "application/vnd.jupyter.widget-view+json": {
       "model_id": "57d47245231c4aedb5d1bd00e8464390",
       "version_major": 2,
       "version_minor": 0
      },
      "text/plain": [
       "SEJveChjaGlsZHJlbj0oTGFiZWwodmFsdWU9dSdTdXBlcmNlbGwnLCBsYXlvdXQ9TGF5b3V0KHdpZHRoPXUnMTQlJykpLCBUZXh0KHZhbHVlPXUnMScpLCBMYWJlbCh2YWx1ZT11JyhSZWxhdGnigKY=\n"
      ]
     },
     "metadata": {},
     "output_type": "display_data"
    }
   ],
   "source": [
    "    text_latt = widgets.Text(description='', value='10.0')\n",
    "    text_eps = widgets.Text(description='', value='10.0')\n",
    "    text_q = widgets.Text(description='', value='1')\n",
    "    text_sup = widgets.Text(description='', value='1')\n",
    "    \n",
    "    lab = Layout(width='14%')\n",
    "        \n",
    "    text_latt_box = HBox([Label('Lattice constant', layout=lab), text_latt, Label('Angstrom')])\n",
    "    text_eps_box  = HBox([Label('Dielectric constant', layout=lab), text_eps, Label('(Relative)')])\n",
    "    text_q_box  = HBox([Label('Charge state', layout=lab), text_q, Label('Absolute electron charges')])\n",
    "    text_sup_box  = HBox([Label('Supercell', layout=lab), text_sup, Label('(Relative)')])\n",
    "\n",
    "    display(text_latt_box)\n",
    "    display(text_eps_box)\n",
    "    display(text_q_box)\n",
    "    display(text_sup_box)"
   ]
  },
  {
   "cell_type": "markdown",
   "metadata": {},
   "source": [
    "## Calculate IIC correction"
   ]
  },
  {
   "cell_type": "code",
   "execution_count": 3,
   "metadata": {},
   "outputs": [
    {
     "data": {
      "application/vnd.jupyter.widget-view+json": {
       "model_id": "606a673b4f2244928020d8e3abba95f2",
       "version_major": 2,
       "version_minor": 0
      },
      "text/plain": [
       "Button(description=u'Calculate IIC', style=ButtonStyle())"
      ]
     },
     "metadata": {},
     "output_type": "display_data"
    },
    {
     "name": "stdout",
     "output_type": "stream",
     "text": [
      "L = 10.0 (Angstrom) epsilon= 10.0 q = 1.0\n",
      "LZ IIC 0.257832318328 eV\n"
     ]
    }
   ],
   "source": [
    "button = widgets.Button(description='Calculate IIC')\n",
    "display(button)\n",
    "\n",
    "def calc_iic(button):\n",
    "    print text_latt\n",
    "    L = float(text_latt.value)*float(text_sup.value)\n",
    "    epsilon = float(text_eps.value)\n",
    "    q = float(text_q.value)\n",
    "    mp = madelung(L, epsilon, q=q)*hart2eV\n",
    "    lz = lany_zunger(L, epsilon, q=q)*hart2eV\n",
    "    clear_output()\n",
    "    display(button)\n",
    "    print 'L =', L, '(Angstrom) ' 'epsilon=', epsilon, 'q =', q\n",
    "    print 'LZ IIC', lz, 'eV'\n",
    "\n",
    "         \n",
    "button.on_click(calc_iic)"
   ]
  },
  {
   "cell_type": "markdown",
   "metadata": {},
   "source": [
    "# Roughly predict the potential alginment correction, given the atoms exchanged, along with the cell size given above."
   ]
  },
  {
   "cell_type": "code",
   "execution_count": 4,
   "metadata": {},
   "outputs": [
    {
     "data": {
      "application/vnd.jupyter.widget-view+json": {
       "model_id": "dca5cae81cdb4393af6554eda618a184",
       "version_major": 2,
       "version_minor": 0
      },
      "text/plain": [
       "Text(value=u'O', description=u'Element')"
      ]
     },
     "metadata": {},
     "output_type": "display_data"
    },
    {
     "data": {
      "application/vnd.jupyter.widget-view+json": {
       "model_id": "a6acdc3301f34b4bbd333b28a5883c0a",
       "version_major": 2,
       "version_minor": 0
      },
      "text/plain": [
       "Text(value=u'-1', description=u'No. added')"
      ]
     },
     "metadata": {},
     "output_type": "display_data"
    },
    {
     "data": {
      "application/vnd.jupyter.widget-view+json": {
       "model_id": "426bc784febf44ff840f7072583e50bd",
       "version_major": 2,
       "version_minor": 0
      },
      "text/plain": [
       "Text(value=u'H', description=u'Element')"
      ]
     },
     "metadata": {},
     "output_type": "display_data"
    },
    {
     "data": {
      "application/vnd.jupyter.widget-view+json": {
       "model_id": "4f0b7d32458a45f0805cb9da19f936ef",
       "version_major": 2,
       "version_minor": 0
      },
      "text/plain": [
       "Text(value=u'0', description=u'No. added')"
      ]
     },
     "metadata": {},
     "output_type": "display_data"
    },
    {
     "data": {
      "application/vnd.jupyter.widget-view+json": {
       "model_id": "3b51ccc29a38419a8382018cd90b740f",
       "version_major": 2,
       "version_minor": 0
      },
      "text/plain": [
       "Text(value=u'He', description=u'Element')"
      ]
     },
     "metadata": {},
     "output_type": "display_data"
    },
    {
     "data": {
      "application/vnd.jupyter.widget-view+json": {
       "model_id": "21e74a151f0746a1bc1591ac467181e1",
       "version_major": 2,
       "version_minor": 0
      },
      "text/plain": [
       "Text(value=u'0', description=u'No. added')"
      ]
     },
     "metadata": {},
     "output_type": "display_data"
    }
   ],
   "source": [
    "atom_1_type = widgets.Text(description='Element', value='O')\n",
    "atom_1_number = widgets.Text(description='No. added', value='-1')\n",
    "display(atom_1_type)\n",
    "display(atom_1_number)\n",
    "\n",
    "atom_2_type = widgets.Text(description='Element', value='H')\n",
    "atom_2_number = widgets.Text(description='No. added', value='0')\n",
    "display(atom_2_type)\n",
    "display(atom_2_number)\n",
    "\n",
    "atom_3_type = widgets.Text(description='Element', value='He')\n",
    "atom_3_number = widgets.Text(description='No. added', value='0')\n",
    "display(atom_3_type)\n",
    "display(atom_3_number)"
   ]
  },
  {
   "cell_type": "code",
   "execution_count": 17,
   "metadata": {},
   "outputs": [
    {
     "name": "stdout",
     "output_type": "stream",
     "text": [
      "q = 1.0 (Electron charges) L = 10.0 (Angstrom)\n",
      "Correction for O -0.0901244 eV\n",
      "Correction for H 0.0 eV\n",
      "Correction for He 0.0 eV\n",
      "Total correction  -0.0901244 eV\n"
     ]
    }
   ],
   "source": [
    "L = float(text_latt.value)*float(text_sup.value)\n",
    "epsilon = float(text_eps.value)\n",
    "q = float(text_q.value)\n",
    "\n",
    "N_1 = int(atom_1_number.value)\n",
    "element_1 = str(atom_1_type.value)\n",
    "alignment_1 = predict_alignment(element_1, L)\n",
    "\n",
    "N_2 = int(atom_2_number.value)\n",
    "element_2 = str(atom_2_type.value)\n",
    "alignment_2 = predict_alignment(element_2, L)\n",
    "\n",
    "N_3 = int(atom_3_number.value)\n",
    "element_3 = str(atom_3_type.value)\n",
    "alignment_3 = predict_alignment(element_3, L)\n",
    "\n",
    "\n",
    "print 'q =', q, '(Electron charges)', 'L =', L, '(Angstrom)'\n",
    "\n",
    "print 'Correction for {0}'.format(element_1), alignment_1*q*N_1, 'eV'\n",
    "print 'Correction for {0}'.format(element_2), alignment_2*q*N_2, 'eV'\n",
    "print 'Correction for {0}'.format(element_3), alignment_3*q*N_3, 'eV'\n",
    "print 'Total correction ', q*(alignment_1*N_1 + alignment_2*N_2 + alignment_3*N_3), 'eV'"
   ]
  },
  {
   "cell_type": "markdown",
   "metadata": {},
   "source": [
    "## Final corrections"
   ]
  },
  {
   "cell_type": "code",
   "execution_count": 21,
   "metadata": {},
   "outputs": [
    {
     "name": "stdout",
     "output_type": "stream",
     "text": [
      "Image Interaction correction (LZ) = 0.257832318328 eV\n",
      "Predicted alignment correction    = -0.0901244 eV\n",
      "Combined correction               = 0.1677079183284979\n"
     ]
    }
   ],
   "source": [
    "print 'Image Interaction correction (LZ) =', lz, 'eV'\n",
    "print 'Predicted alignment correction    =', q*(alignment_1*N_1 + alignment_2*N_2 + alignment_3*N_3), 'eV'\n",
    "print 'Combined correction               =', lz + q*(alignment_1*N_1 + alignment_2*N_2 + alignment_3*N_3)"
   ]
  }
 ],
 "metadata": {
  "kernelspec": {
   "display_name": "Python 2",
   "language": "python",
   "name": "python2"
  },
  "language_info": {
   "codemirror_mode": {
    "name": "ipython",
    "version": 2
   },
   "file_extension": ".py",
   "mimetype": "text/x-python",
   "name": "python",
   "nbconvert_exporter": "python",
   "pygments_lexer": "ipython2",
   "version": "2.7.13"
  }
 },
 "nbformat": 4,
 "nbformat_minor": 2
}
